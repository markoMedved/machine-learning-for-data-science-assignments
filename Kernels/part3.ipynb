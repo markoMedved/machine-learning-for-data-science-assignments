{
 "cells": [
  {
   "cell_type": "markdown",
   "id": "d2e211a2",
   "metadata": {},
   "source": [
    "# PART 3"
   ]
  },
  {
   "cell_type": "markdown",
   "id": "adc4f1a8",
   "metadata": {},
   "source": [
    "### TODO: part 3 loook at the definition of a  kernel, for the baseline you can use SVM with any kernel with pixels as inputs"
   ]
  },
  {
   "cell_type": "markdown",
   "id": "822158dc",
   "metadata": {},
   "source": [
    "### PREPARE THE DATA"
   ]
  },
  {
   "cell_type": "code",
   "execution_count": 28,
   "id": "5ca43866",
   "metadata": {},
   "outputs": [],
   "source": [
    "from torch.utils.data import Dataset, DataLoader\n",
    "import os\n",
    "from PIL import Image\n",
    "import numpy as np\n",
    "import matplotlib.pyplot as plt\n",
    "from sklearn.model_selection import train_test_split\n",
    "from sklearn.preprocessing import StandardScaler"
   ]
  },
  {
   "cell_type": "code",
   "execution_count": 130,
   "id": "bfe255fa",
   "metadata": {},
   "outputs": [
    {
     "data": {
      "text/plain": [
       "<matplotlib.image.AxesImage at 0x26b957624f0>"
      ]
     },
     "execution_count": 130,
     "metadata": {},
     "output_type": "execute_result"
    },
    {
     "data": {
      "image/png": "[encoded data removed]",
      "text/plain": [
       "<Figure size 640x480 with 1 Axes>"
      ]
     },
     "metadata": {},
     "output_type": "display_data"
    }
   ],
   "source": [
    "class Faces(Dataset):\n",
    "    def __init__(self, root_dir=\"data\"):\n",
    "        self.root_dir = root_dir\n",
    "        self.data = []\n",
    "        for file in os.listdir(root_dir):\n",
    "            if file.endswith(\".jpg\"):\n",
    "                age = int(file.split(\"_\")[0])\n",
    "                self.data.append({\"path\": file, \"age\": age})\n",
    "\n",
    "    def __len__(self):\n",
    "        return len(self.data)\n",
    "\n",
    "    def __getitem__(self, index):\n",
    "        sample = self.data[index]\n",
    "        full_path = os.path.join(self.root_dir, sample[\"path\"])\n",
    "        image = Image.open(full_path).convert(\"RGB\").resize((32, 32))\n",
    "        image = np.array(image)\n",
    "        age = sample[\"age\"]\n",
    "        return image, age\n",
    "\n",
    "\n",
    "fcs = Faces()\n",
    "plt.imshow(fcs.__getitem__(3)[0])"
   ]
  },
  {
   "cell_type": "code",
   "execution_count": 131,
   "id": "d8ba826f",
   "metadata": {},
   "outputs": [],
   "source": [
    "dataset = Faces()\n",
    "# Convert dataset to data and labels\n",
    "images = []\n",
    "ages = []\n",
    "\n",
    "for img, age in dataset:\n",
    "    images.append(img)\n",
    "    ages.append(age)\n",
    "\n",
    "# Split into train and test\n",
    "X_train, X_test, y_train, y_test = train_test_split(images, ages, test_size=0.2, random_state=42)"
   ]
  },
  {
   "cell_type": "markdown",
   "id": "118daac2",
   "metadata": {},
   "source": [
    "### Linear kernel"
   ]
  },
  {
   "cell_type": "code",
   "execution_count": 132,
   "id": "98ae7e82",
   "metadata": {},
   "outputs": [],
   "source": [
    "# Reshape to features vectors\n",
    "X_train_basic = [x.reshape(-1) for x in X_train]\n",
    "X_test_basic = [x.reshape(-1) for x in X_test]\n",
    "\n",
    "# Scale the data\n",
    "scaler = StandardScaler()\n",
    "scaler.fit(X_train_basic)\n",
    "X_train_basic = scaler.transform(X_train_basic)\n",
    "X_test_basic = scaler.transform(X_test_basic)"
   ]
  },
  {
   "cell_type": "code",
   "execution_count": 154,
   "id": "d5f87679",
   "metadata": {},
   "outputs": [
    {
     "data": {
      "text/plain": [
       "209.5258595683602"
      ]
     },
     "execution_count": 154,
     "metadata": {},
     "output_type": "execute_result"
    }
   ],
   "source": [
    "from hw_kernels import SVR, RBF, Polynomial, Linear, KernelizedRidgeRegression\n",
    "from sklearn.metrics import mean_squared_error\n",
    "\n",
    "fitter = KernelizedRidgeRegression(RBF(sigma=1000),lambda_=0.001)\n",
    "model = fitter.fit(X_train_basic, y_train)\n",
    "preds = model.predict(X_test_basic)\n",
    "mean_squared_error(y_test, preds)"
   ]
  },
  {
   "cell_type": "markdown",
   "id": "108a402a",
   "metadata": {},
   "source": [
    "### Custom kernel"
   ]
  },
  {
   "cell_type": "code",
   "execution_count": 134,
   "id": "741b7fa9",
   "metadata": {},
   "outputs": [],
   "source": [
    "def normalize_images(X):\n",
    "    normed = []\n",
    "    for img in X:\n",
    "        img = img.astype(np.float32)\n",
    "        img = img/255\n",
    "        normed.append(img)\n",
    "    return normed"
   ]
  },
  {
   "cell_type": "code",
   "execution_count": 135,
   "id": "d5f1e52a",
   "metadata": {},
   "outputs": [],
   "source": [
    "from sklearn.feature_extraction.image import extract_patches_2d\n",
    "from tqdm import tqdm\n",
    "\n",
    "class ConvolutionalKernel:\n",
    "    def __init__(self, patch_size = 3, kernel = Linear()):\n",
    "        self.patch_size = patch_size\n",
    "        self.kernel = kernel\n",
    "\n",
    "    def extract_and_flatten_patches(self, img):\n",
    "        patches = extract_patches_2d(img, (self.patch_size, self.patch_size))\n",
    "        return patches.reshape(patches.shape[0], -1)\n",
    "\n",
    "    def __call__(self, A, B):\n",
    "        patches_A = [self.extract_and_flatten_patches(img) for img in A]\n",
    "        patches_B = [self.extract_and_flatten_patches(img) for img in B]\n",
    "\n",
    "        K = np.zeros((len(A), len(B)))\n",
    "        for i, pa in tqdm(enumerate(patches_A)):\n",
    "            for j, pb in enumerate(patches_B):\n",
    "                K_patches = self.kernel(pa, pb)\n",
    "\n",
    "                K[i, j] = np.mean(K_patches)\n",
    "\n",
    "        return K\n",
    "                \n",
    "  "
   ]
  },
  {
   "cell_type": "markdown",
   "id": "15b5a912",
   "metadata": {},
   "source": [
    "## Test new kernel with linear as base"
   ]
  },
  {
   "cell_type": "code",
   "execution_count": 158,
   "id": "29355566",
   "metadata": {},
   "outputs": [
    {
     "name": "stderr",
     "output_type": "stream",
     "text": [
      "798it [1:26:31,  6.51s/it]\n"
     ]
    }
   ],
   "source": [
    "X_train_convolutional = normalize_images(X_train)\n",
    "X_test_convolutional = normalize_images(X_test)\n",
    "\n",
    "fitter = KernelizedRidgeRegression(ConvolutionalKernel(kernel=RBF(sigma=1000),patch_size=5),lambda_=0.001)\n",
    "#fitter = KernelizedRidgeRegression(ConvolutionalKernel(patch_size=5),lambda_=0.001)\n",
    "model = fitter.fit(X_train_convolutional, y_train)"
   ]
  },
  {
   "cell_type": "code",
   "execution_count": null,
   "id": "0916a3f0",
   "metadata": {},
   "outputs": [
    {
     "name": "stderr",
     "output_type": "stream",
     "text": [
      "25it [03:20,  6.65s/it]"
     ]
    }
   ],
   "source": [
    "preds = model.predict(X_test_convolutional)\n",
    "mean_squared_error(y_test, preds)"
   ]
  },
  {
   "cell_type": "markdown",
   "id": "c4125a4a",
   "metadata": {},
   "source": [
    "## Test new kernel with RBF as base"
   ]
  },
  {
   "cell_type": "code",
   "execution_count": null,
   "id": "209ed2b3",
   "metadata": {},
   "outputs": [],
   "source": [
    "X_train_convolutional = normalize_images(X_train)\n",
    "X_test_convolutional = normalize_images(X_test)\n",
    "\n",
    "fitter = KernelizedRidgeRegression(ConvolutionalKernel(kernel=RBF(sigma=1000)),lambda_=0.001)\n",
    "model = fitter.fit(X_train_convolutional, y_train)"
   ]
  },
  {
   "cell_type": "code",
   "execution_count": null,
   "id": "b3049ed6",
   "metadata": {},
   "outputs": [],
   "source": [
    "preds = model.predict(X_test_convolutional)\n",
    "mean_squared_error(y_test, preds)"
   ]
  }
 ],
 "metadata": {
  "kernelspec": {
   "display_name": "mlds",
   "language": "python",
   "name": "python3"
  },
  "language_info": {
   "codemirror_mode": {
    "name": "ipython",
    "version": 3
   },
   "file_extension": ".py",
   "mimetype": "text/x-python",
   "name": "python",
   "nbconvert_exporter": "python",
   "pygments_lexer": "ipython3",
   "version": "3.8.20"
  }
 },
 "nbformat": 4,
 "nbformat_minor": 5
}
