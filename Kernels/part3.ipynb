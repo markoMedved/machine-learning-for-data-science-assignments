{
 "cells": [
  {
   "cell_type": "markdown",
   "id": "d2e211a2",
   "metadata": {},
   "source": [
    "# PART 3"
   ]
  },
  {
   "cell_type": "markdown",
   "id": "822158dc",
   "metadata": {},
   "source": [
    "### PREPARE THE DATA"
   ]
  },
  {
   "cell_type": "code",
   "execution_count": 30,
   "id": "5ca43866",
   "metadata": {},
   "outputs": [],
   "source": [
    "from torch.utils.data import Dataset, DataLoader\n",
    "import os\n",
    "from PIL import Image\n",
    "import numpy as np\n",
    "import matplotlib.pyplot as plt\n",
    "from sklearn.model_selection import train_test_split\n",
    "from sklearn.preprocessing import StandardScaler"
   ]
  },
  {
   "cell_type": "code",
   "execution_count": null,
   "id": "bfe255fa",
   "metadata": {},
   "outputs": [],
   "source": [
    "class Faces(Dataset):\n",
    "    def __init__(self, root_dir=\"data\"):\n",
    "        self.root_dir = root_dir\n",
    "        self.data = []\n",
    "        for file in os.listdir(root_dir):\n",
    "            if file.endswith(\".jpg\"):\n",
    "                age = int(file.split(\"_\")[0])\n",
    "                self.data.append({\"path\": file, \"age\": age})\n",
    "\n",
    "    def __len__(self):\n",
    "        return len(self.data)\n",
    "\n",
    "    def __getitem__(self, index):\n",
    "        sample = self.data[index]\n",
    "        full_path = os.path.join(self.root_dir, sample[\"path\"])\n",
    "        image = Image.open(full_path).convert(\"RGB\").resize((64, 64))\n",
    "        image = np.array(image)\n",
    "        age = sample[\"age\"]\n",
    "        return image, age\n",
    "\n",
    "\n",
    "# fcs = Faces()\n",
    "# plt.imshow(fcs.__getitem__(1)[0])\n"
   ]
  },
  {
   "cell_type": "code",
   "execution_count": 96,
   "id": "d8ba826f",
   "metadata": {},
   "outputs": [],
   "source": [
    "dataset = Faces()\n",
    "# Convert dataset to data and labels\n",
    "images = []\n",
    "ages = []\n",
    "\n",
    "for img, age in dataset:\n",
    "    images.append(img)\n",
    "    ages.append(age)\n",
    "\n",
    "# Split into train and test\n",
    "X_train, X_test, y_train, y_test = train_test_split(images, ages, test_size=0.2, random_state=42)"
   ]
  },
  {
   "cell_type": "markdown",
   "id": "118daac2",
   "metadata": {},
   "source": [
    "### Linear kernel"
   ]
  },
  {
   "cell_type": "code",
   "execution_count": 97,
   "id": "98ae7e82",
   "metadata": {},
   "outputs": [],
   "source": [
    "# Reshape to features vectors\n",
    "X_train = [x.reshape(-1) for x in X_train]\n",
    "X_test = [x.reshape(-1) for x in X_test]\n",
    "\n",
    "# Scale the data\n",
    "scaler = StandardScaler()\n",
    "scaler.fit(X_train)\n",
    "X_train = scaler.transform(X_train)\n",
    "X_test = scaler.transform(X_test)"
   ]
  },
  {
   "cell_type": "code",
   "execution_count": 98,
   "id": "d5f87679",
   "metadata": {},
   "outputs": [
    {
     "data": {
      "text/plain": [
       "234.96008479967392"
      ]
     },
     "execution_count": 98,
     "metadata": {},
     "output_type": "execute_result"
    }
   ],
   "source": [
    "from hw_kernels import KernelizedRidgeRegression, SVR, RBF\n",
    "from sklearn.metrics import mean_squared_error\n",
    "\n",
    "fitter = SVR(lambda_=10)\n",
    "model = fitter.fit(X_train, y_train)\n",
    "preds = model.predict(X_test)\n",
    "mean_squared_error(y_test, preds)"
   ]
  },
  {
   "cell_type": "markdown",
   "id": "108a402a",
   "metadata": {},
   "source": [
    "### Custom kernel"
   ]
  },
  {
   "cell_type": "code",
   "execution_count": null,
   "id": "d5f1e52a",
   "metadata": {},
   "outputs": [],
   "source": [
    "class CustomKernel:\n",
    "    def __init__(self):\n",
    "        "
   ]
  }
 ],
 "metadata": {
  "kernelspec": {
   "display_name": "mlds",
   "language": "python",
   "name": "python3"
  },
  "language_info": {
   "codemirror_mode": {
    "name": "ipython",
    "version": 3
   },
   "file_extension": ".py",
   "mimetype": "text/x-python",
   "name": "python",
   "nbconvert_exporter": "python",
   "pygments_lexer": "ipython3",
   "version": "3.8.20"
  }
 },
 "nbformat": 4,
 "nbformat_minor": 5
}
